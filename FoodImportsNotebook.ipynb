{
 "cells": [
  {
   "cell_type": "markdown",
   "id": "86e932a8",
   "metadata": {},
   "source": [
    "# Food Imports Project\n",
    "\n",
    "Suppose we are a company interested in the consumption patterns and business use of different food groups in th United States. Suppose we want to predict the total import value of different food groups for next year.\n",
    "\n",
    "We can use the food imports data provided by the USDA to build a model to make predictions.\n",
    "\n",
    "\n",
    "Note: This is a work in progress."
   ]
  },
  {
   "cell_type": "code",
   "execution_count": 29,
   "id": "39f6db5a",
   "metadata": {},
   "outputs": [],
   "source": [
    "import numpy as np\n",
    "import pandas as pd\n",
    "import matplotlib.pyplot as plt\n"
   ]
  },
  {
   "cell_type": "markdown",
   "id": "c39f9011",
   "metadata": {},
   "source": [
    "We will be working on the USDA Food imports dataset."
   ]
  },
  {
   "cell_type": "code",
   "execution_count": 30,
   "id": "5c37ea2a",
   "metadata": {},
   "outputs": [],
   "source": [
    "data_values = pd.read_csv('MyFoodImports - ValueFoodImports.csv')"
   ]
  },
  {
   "cell_type": "code",
   "execution_count": 31,
   "id": "a3272ab7",
   "metadata": {},
   "outputs": [],
   "source": [
    "data_volumes = pd.read_csv('MyFoodImports - VolumeFoodImports.csv')"
   ]
  },
  {
   "cell_type": "code",
   "execution_count": 32,
   "id": "ebeaa62c",
   "metadata": {},
   "outputs": [],
   "source": [
    "import os"
   ]
  },
  {
   "cell_type": "code",
   "execution_count": 33,
   "id": "c945d565",
   "metadata": {},
   "outputs": [
    {
     "data": {
      "text/plain": [
       "['FoodImportsNotebook.ipynb',\n",
       " '.DS_Store',\n",
       " 'FoodImports.xlsx',\n",
       " 'MyFoodImports - VolumeFoodImports.csv',\n",
       " 'FoodImportsNotebook-Copy1.ipynb',\n",
       " '.ipynb_checkpoints',\n",
       " 'MyFoodImports - ValueFoodImports.csv']"
      ]
     },
     "execution_count": 33,
     "metadata": {},
     "output_type": "execute_result"
    }
   ],
   "source": [
    "os.listdir()"
   ]
  },
  {
   "cell_type": "code",
   "execution_count": 34,
   "id": "ef7259d6",
   "metadata": {},
   "outputs": [
    {
     "data": {
      "text/html": [
       "<div>\n",
       "<style scoped>\n",
       "    .dataframe tbody tr th:only-of-type {\n",
       "        vertical-align: middle;\n",
       "    }\n",
       "\n",
       "    .dataframe tbody tr th {\n",
       "        vertical-align: top;\n",
       "    }\n",
       "\n",
       "    .dataframe thead th {\n",
       "        text-align: right;\n",
       "    }\n",
       "</style>\n",
       "<table border=\"1\" class=\"dataframe\">\n",
       "  <thead>\n",
       "    <tr style=\"text-align: right;\">\n",
       "      <th></th>\n",
       "      <th>year</th>\n",
       "      <th>group</th>\n",
       "      <th>group_type</th>\n",
       "      <th>value</th>\n",
       "      <th>unit</th>\n",
       "    </tr>\n",
       "  </thead>\n",
       "  <tbody>\n",
       "    <tr>\n",
       "      <th>0</th>\n",
       "      <td>2022</td>\n",
       "      <td>U.S. imports</td>\n",
       "      <td>Total foods 1/</td>\n",
       "      <td>199,835.80</td>\n",
       "      <td>dollars_millions</td>\n",
       "    </tr>\n",
       "    <tr>\n",
       "      <th>1</th>\n",
       "      <td>2022</td>\n",
       "      <td>Live meat animals</td>\n",
       "      <td>Foods</td>\n",
       "      <td>2,509.60</td>\n",
       "      <td>dollars_millions</td>\n",
       "    </tr>\n",
       "    <tr>\n",
       "      <th>2</th>\n",
       "      <td>2022</td>\n",
       "      <td>Meats</td>\n",
       "      <td>Foods</td>\n",
       "      <td>14,055.40</td>\n",
       "      <td>dollars_millions</td>\n",
       "    </tr>\n",
       "    <tr>\n",
       "      <th>3</th>\n",
       "      <td>2022</td>\n",
       "      <td>Fish and shellfish 2/</td>\n",
       "      <td>Foods</td>\n",
       "      <td>30,525.50</td>\n",
       "      <td>dollars_millions</td>\n",
       "    </tr>\n",
       "    <tr>\n",
       "      <th>4</th>\n",
       "      <td>2022</td>\n",
       "      <td>Dairy</td>\n",
       "      <td>Foods</td>\n",
       "      <td>2,721.40</td>\n",
       "      <td>dollars_millions</td>\n",
       "    </tr>\n",
       "  </tbody>\n",
       "</table>\n",
       "</div>"
      ],
      "text/plain": [
       "   year                  group      group_type       value              unit\n",
       "0  2022           U.S. imports  Total foods 1/  199,835.80  dollars_millions\n",
       "1  2022      Live meat animals           Foods    2,509.60  dollars_millions\n",
       "2  2022                  Meats           Foods   14,055.40  dollars_millions\n",
       "3  2022  Fish and shellfish 2/           Foods   30,525.50  dollars_millions\n",
       "4  2022                  Dairy           Foods    2,721.40  dollars_millions"
      ]
     },
     "execution_count": 34,
     "metadata": {},
     "output_type": "execute_result"
    }
   ],
   "source": [
    "data_values.head()"
   ]
  },
  {
   "cell_type": "code",
   "execution_count": 35,
   "id": "95caaad8",
   "metadata": {},
   "outputs": [],
   "source": [
    "mask = data_values['group'] == 'U.S. imports'"
   ]
  },
  {
   "cell_type": "code",
   "execution_count": 36,
   "id": "ad945799",
   "metadata": {},
   "outputs": [
    {
     "data": {
      "text/html": [
       "<div>\n",
       "<style scoped>\n",
       "    .dataframe tbody tr th:only-of-type {\n",
       "        vertical-align: middle;\n",
       "    }\n",
       "\n",
       "    .dataframe tbody tr th {\n",
       "        vertical-align: top;\n",
       "    }\n",
       "\n",
       "    .dataframe thead th {\n",
       "        text-align: right;\n",
       "    }\n",
       "</style>\n",
       "<table border=\"1\" class=\"dataframe\">\n",
       "  <thead>\n",
       "    <tr style=\"text-align: right;\">\n",
       "      <th></th>\n",
       "      <th>year</th>\n",
       "      <th>group</th>\n",
       "      <th>group_type</th>\n",
       "      <th>value</th>\n",
       "      <th>unit</th>\n",
       "    </tr>\n",
       "  </thead>\n",
       "  <tbody>\n",
       "    <tr>\n",
       "      <th>0</th>\n",
       "      <td>2022</td>\n",
       "      <td>U.S. imports</td>\n",
       "      <td>Total foods 1/</td>\n",
       "      <td>199,835.80</td>\n",
       "      <td>dollars_millions</td>\n",
       "    </tr>\n",
       "    <tr>\n",
       "      <th>17</th>\n",
       "      <td>2021</td>\n",
       "      <td>U.S. imports</td>\n",
       "      <td>Total foods 1/</td>\n",
       "      <td>174,144.80</td>\n",
       "      <td>dollars_millions</td>\n",
       "    </tr>\n",
       "    <tr>\n",
       "      <th>34</th>\n",
       "      <td>2020</td>\n",
       "      <td>U.S. imports</td>\n",
       "      <td>Total foods 1/</td>\n",
       "      <td>147,631.00</td>\n",
       "      <td>dollars_millions</td>\n",
       "    </tr>\n",
       "    <tr>\n",
       "      <th>51</th>\n",
       "      <td>2019</td>\n",
       "      <td>U.S. imports</td>\n",
       "      <td>Total foods 1/</td>\n",
       "      <td>142,987.40</td>\n",
       "      <td>dollars_millions</td>\n",
       "    </tr>\n",
       "    <tr>\n",
       "      <th>68</th>\n",
       "      <td>2018</td>\n",
       "      <td>U.S. imports</td>\n",
       "      <td>Total foods 1/</td>\n",
       "      <td>140,916.90</td>\n",
       "      <td>dollars_millions</td>\n",
       "    </tr>\n",
       "    <tr>\n",
       "      <th>85</th>\n",
       "      <td>2017</td>\n",
       "      <td>U.S. imports</td>\n",
       "      <td>Total foods 1/</td>\n",
       "      <td>132,511.30</td>\n",
       "      <td>dollars_millions</td>\n",
       "    </tr>\n",
       "    <tr>\n",
       "      <th>102</th>\n",
       "      <td>2016</td>\n",
       "      <td>U.S. imports</td>\n",
       "      <td>Total foods 1/</td>\n",
       "      <td>125,437.80</td>\n",
       "      <td>dollars_millions</td>\n",
       "    </tr>\n",
       "    <tr>\n",
       "      <th>119</th>\n",
       "      <td>2015</td>\n",
       "      <td>U.S. imports</td>\n",
       "      <td>Total foods 1/</td>\n",
       "      <td>123,350.70</td>\n",
       "      <td>dollars_millions</td>\n",
       "    </tr>\n",
       "    <tr>\n",
       "      <th>136</th>\n",
       "      <td>2014</td>\n",
       "      <td>U.S. imports</td>\n",
       "      <td>Total foods 1/</td>\n",
       "      <td>121,825.00</td>\n",
       "      <td>dollars_millions</td>\n",
       "    </tr>\n",
       "    <tr>\n",
       "      <th>153</th>\n",
       "      <td>2013</td>\n",
       "      <td>U.S. imports</td>\n",
       "      <td>Total foods 1/</td>\n",
       "      <td>111,777.70</td>\n",
       "      <td>dollars_millions</td>\n",
       "    </tr>\n",
       "    <tr>\n",
       "      <th>170</th>\n",
       "      <td>2012</td>\n",
       "      <td>U.S. imports</td>\n",
       "      <td>Total foods 1/</td>\n",
       "      <td>108,811.00</td>\n",
       "      <td>dollars_millions</td>\n",
       "    </tr>\n",
       "    <tr>\n",
       "      <th>187</th>\n",
       "      <td>2011</td>\n",
       "      <td>U.S. imports</td>\n",
       "      <td>Total foods 1/</td>\n",
       "      <td>104,482.80</td>\n",
       "      <td>dollars_millions</td>\n",
       "    </tr>\n",
       "    <tr>\n",
       "      <th>204</th>\n",
       "      <td>2010</td>\n",
       "      <td>U.S. imports</td>\n",
       "      <td>Total foods 1/</td>\n",
       "      <td>88,457.00</td>\n",
       "      <td>dollars_millions</td>\n",
       "    </tr>\n",
       "    <tr>\n",
       "      <th>221</th>\n",
       "      <td>2009</td>\n",
       "      <td>U.S. imports</td>\n",
       "      <td>Total foods 1/</td>\n",
       "      <td>78,472.30</td>\n",
       "      <td>dollars_millions</td>\n",
       "    </tr>\n",
       "    <tr>\n",
       "      <th>238</th>\n",
       "      <td>2008</td>\n",
       "      <td>U.S. imports</td>\n",
       "      <td>Total foods 1/</td>\n",
       "      <td>85,752.10</td>\n",
       "      <td>dollars_millions</td>\n",
       "    </tr>\n",
       "    <tr>\n",
       "      <th>255</th>\n",
       "      <td>2007</td>\n",
       "      <td>U.S. imports</td>\n",
       "      <td>Total foods 1/</td>\n",
       "      <td>77,937.80</td>\n",
       "      <td>dollars_millions</td>\n",
       "    </tr>\n",
       "    <tr>\n",
       "      <th>272</th>\n",
       "      <td>2006</td>\n",
       "      <td>U.S. imports</td>\n",
       "      <td>Total foods 1/</td>\n",
       "      <td>71,925.60</td>\n",
       "      <td>dollars_millions</td>\n",
       "    </tr>\n",
       "    <tr>\n",
       "      <th>289</th>\n",
       "      <td>2005</td>\n",
       "      <td>U.S. imports</td>\n",
       "      <td>Total foods 1/</td>\n",
       "      <td>65,311.70</td>\n",
       "      <td>dollars_millions</td>\n",
       "    </tr>\n",
       "    <tr>\n",
       "      <th>306</th>\n",
       "      <td>2004</td>\n",
       "      <td>U.S. imports</td>\n",
       "      <td>Total foods 1/</td>\n",
       "      <td>59,268.30</td>\n",
       "      <td>dollars_millions</td>\n",
       "    </tr>\n",
       "    <tr>\n",
       "      <th>323</th>\n",
       "      <td>2003</td>\n",
       "      <td>U.S. imports</td>\n",
       "      <td>Total foods 1/</td>\n",
       "      <td>53,102.20</td>\n",
       "      <td>dollars_millions</td>\n",
       "    </tr>\n",
       "    <tr>\n",
       "      <th>340</th>\n",
       "      <td>2002</td>\n",
       "      <td>U.S. imports</td>\n",
       "      <td>Total foods 1/</td>\n",
       "      <td>47,205.10</td>\n",
       "      <td>dollars_millions</td>\n",
       "    </tr>\n",
       "    <tr>\n",
       "      <th>357</th>\n",
       "      <td>2001</td>\n",
       "      <td>U.S. imports</td>\n",
       "      <td>Total foods 1/</td>\n",
       "      <td>44,396.40</td>\n",
       "      <td>dollars_millions</td>\n",
       "    </tr>\n",
       "    <tr>\n",
       "      <th>374</th>\n",
       "      <td>2000</td>\n",
       "      <td>U.S. imports</td>\n",
       "      <td>Total foods 1/</td>\n",
       "      <td>43,788.60</td>\n",
       "      <td>dollars_millions</td>\n",
       "    </tr>\n",
       "    <tr>\n",
       "      <th>391</th>\n",
       "      <td>1999</td>\n",
       "      <td>U.S. imports</td>\n",
       "      <td>Total foods 1/</td>\n",
       "      <td>41,825.00</td>\n",
       "      <td>dollars_millions</td>\n",
       "    </tr>\n",
       "  </tbody>\n",
       "</table>\n",
       "</div>"
      ],
      "text/plain": [
       "     year         group      group_type       value              unit\n",
       "0    2022  U.S. imports  Total foods 1/  199,835.80  dollars_millions\n",
       "17   2021  U.S. imports  Total foods 1/  174,144.80  dollars_millions\n",
       "34   2020  U.S. imports  Total foods 1/  147,631.00  dollars_millions\n",
       "51   2019  U.S. imports  Total foods 1/  142,987.40  dollars_millions\n",
       "68   2018  U.S. imports  Total foods 1/  140,916.90  dollars_millions\n",
       "85   2017  U.S. imports  Total foods 1/  132,511.30  dollars_millions\n",
       "102  2016  U.S. imports  Total foods 1/  125,437.80  dollars_millions\n",
       "119  2015  U.S. imports  Total foods 1/  123,350.70  dollars_millions\n",
       "136  2014  U.S. imports  Total foods 1/  121,825.00  dollars_millions\n",
       "153  2013  U.S. imports  Total foods 1/  111,777.70  dollars_millions\n",
       "170  2012  U.S. imports  Total foods 1/  108,811.00  dollars_millions\n",
       "187  2011  U.S. imports  Total foods 1/  104,482.80  dollars_millions\n",
       "204  2010  U.S. imports  Total foods 1/   88,457.00  dollars_millions\n",
       "221  2009  U.S. imports  Total foods 1/   78,472.30  dollars_millions\n",
       "238  2008  U.S. imports  Total foods 1/   85,752.10  dollars_millions\n",
       "255  2007  U.S. imports  Total foods 1/   77,937.80  dollars_millions\n",
       "272  2006  U.S. imports  Total foods 1/   71,925.60  dollars_millions\n",
       "289  2005  U.S. imports  Total foods 1/   65,311.70  dollars_millions\n",
       "306  2004  U.S. imports  Total foods 1/   59,268.30  dollars_millions\n",
       "323  2003  U.S. imports  Total foods 1/   53,102.20  dollars_millions\n",
       "340  2002  U.S. imports  Total foods 1/   47,205.10  dollars_millions\n",
       "357  2001  U.S. imports  Total foods 1/   44,396.40  dollars_millions\n",
       "374  2000  U.S. imports  Total foods 1/   43,788.60  dollars_millions\n",
       "391  1999  U.S. imports  Total foods 1/   41,825.00  dollars_millions"
      ]
     },
     "execution_count": 36,
     "metadata": {},
     "output_type": "execute_result"
    }
   ],
   "source": [
    "data_values[mask]"
   ]
  },
  {
   "cell_type": "markdown",
   "id": "5b983587",
   "metadata": {},
   "source": [
    "### What does this dataset represent?"
   ]
  },
  {
   "cell_type": "markdown",
   "id": "f13aab15",
   "metadata": {},
   "source": [
    "The prices are not adjusted for inflation.\n",
    "\n",
    "Volume units given, for live animals, fowl are excluded."
   ]
  },
  {
   "cell_type": "markdown",
   "id": "67d5aa21",
   "metadata": {},
   "source": [
    "### Data Source Flow Chart"
   ]
  },
  {
   "cell_type": "markdown",
   "id": "21927013",
   "metadata": {},
   "source": [
    "Our dataset comes from the USDA. Each category of food is found in the USDA food availability data set. The USDA took the imprt data from each country and aggregated it into total import value for each food group. our dataset also has subtotals, aggregated by the USDA, by food type."
   ]
  },
  {
   "cell_type": "markdown",
   "id": "f65e0416",
   "metadata": {},
   "source": [
    "https://www.census.gov/foreign-trade/reference/guides/tradestatsinfo.html\n",
    "\n",
    "https://www.ers.usda.gov/data-products/u-s-food-imports/documentation/"
   ]
  },
  {
   "cell_type": "code",
   "execution_count": 37,
   "id": "23ed56be",
   "metadata": {},
   "outputs": [],
   "source": [
    "data_totals = data_values[mask].copy()"
   ]
  },
  {
   "cell_type": "code",
   "execution_count": 38,
   "id": "84ff5bb9",
   "metadata": {},
   "outputs": [
    {
     "data": {
      "text/html": [
       "<div>\n",
       "<style scoped>\n",
       "    .dataframe tbody tr th:only-of-type {\n",
       "        vertical-align: middle;\n",
       "    }\n",
       "\n",
       "    .dataframe tbody tr th {\n",
       "        vertical-align: top;\n",
       "    }\n",
       "\n",
       "    .dataframe thead th {\n",
       "        text-align: right;\n",
       "    }\n",
       "</style>\n",
       "<table border=\"1\" class=\"dataframe\">\n",
       "  <thead>\n",
       "    <tr style=\"text-align: right;\">\n",
       "      <th></th>\n",
       "      <th>year</th>\n",
       "      <th>group</th>\n",
       "      <th>group_type</th>\n",
       "      <th>value</th>\n",
       "      <th>unit</th>\n",
       "    </tr>\n",
       "  </thead>\n",
       "  <tbody>\n",
       "    <tr>\n",
       "      <th>0</th>\n",
       "      <td>2022</td>\n",
       "      <td>U.S. imports</td>\n",
       "      <td>Total foods 1/</td>\n",
       "      <td>199,835.80</td>\n",
       "      <td>dollars_millions</td>\n",
       "    </tr>\n",
       "    <tr>\n",
       "      <th>17</th>\n",
       "      <td>2021</td>\n",
       "      <td>U.S. imports</td>\n",
       "      <td>Total foods 1/</td>\n",
       "      <td>174,144.80</td>\n",
       "      <td>dollars_millions</td>\n",
       "    </tr>\n",
       "    <tr>\n",
       "      <th>34</th>\n",
       "      <td>2020</td>\n",
       "      <td>U.S. imports</td>\n",
       "      <td>Total foods 1/</td>\n",
       "      <td>147,631.00</td>\n",
       "      <td>dollars_millions</td>\n",
       "    </tr>\n",
       "    <tr>\n",
       "      <th>51</th>\n",
       "      <td>2019</td>\n",
       "      <td>U.S. imports</td>\n",
       "      <td>Total foods 1/</td>\n",
       "      <td>142,987.40</td>\n",
       "      <td>dollars_millions</td>\n",
       "    </tr>\n",
       "    <tr>\n",
       "      <th>68</th>\n",
       "      <td>2018</td>\n",
       "      <td>U.S. imports</td>\n",
       "      <td>Total foods 1/</td>\n",
       "      <td>140,916.90</td>\n",
       "      <td>dollars_millions</td>\n",
       "    </tr>\n",
       "  </tbody>\n",
       "</table>\n",
       "</div>"
      ],
      "text/plain": [
       "    year         group      group_type       value              unit\n",
       "0   2022  U.S. imports  Total foods 1/  199,835.80  dollars_millions\n",
       "17  2021  U.S. imports  Total foods 1/  174,144.80  dollars_millions\n",
       "34  2020  U.S. imports  Total foods 1/  147,631.00  dollars_millions\n",
       "51  2019  U.S. imports  Total foods 1/  142,987.40  dollars_millions\n",
       "68  2018  U.S. imports  Total foods 1/  140,916.90  dollars_millions"
      ]
     },
     "execution_count": 38,
     "metadata": {},
     "output_type": "execute_result"
    }
   ],
   "source": [
    "data_totals.head()"
   ]
  },
  {
   "cell_type": "code",
   "execution_count": 39,
   "id": "30624230",
   "metadata": {},
   "outputs": [],
   "source": [
    "data_totals = data_totals[['year','value']]"
   ]
  },
  {
   "cell_type": "code",
   "execution_count": 40,
   "id": "4086b606",
   "metadata": {},
   "outputs": [],
   "source": [
    "data_totals['year'] = pd.to_datetime(data_totals['year'],format = '%Y')"
   ]
  },
  {
   "cell_type": "code",
   "execution_count": 41,
   "id": "2a73f0bc",
   "metadata": {},
   "outputs": [],
   "source": [
    "data_totals.index = pd.DatetimeIndex(data_totals['year'])"
   ]
  },
  {
   "cell_type": "code",
   "execution_count": 42,
   "id": "6e4aab2a",
   "metadata": {},
   "outputs": [],
   "source": [
    "data_totals.drop(['year'],inplace = True,axis = 1)"
   ]
  },
  {
   "cell_type": "code",
   "execution_count": 43,
   "id": "e2d18ce5",
   "metadata": {},
   "outputs": [],
   "source": [
    "data_totals['value'] = data_totals['value'].str.replace(',','')"
   ]
  },
  {
   "cell_type": "code",
   "execution_count": 44,
   "id": "7eb7e3e4",
   "metadata": {},
   "outputs": [],
   "source": [
    "data_totals['value'] = data_totals['value'].astype('float')"
   ]
  },
  {
   "cell_type": "code",
   "execution_count": 45,
   "id": "60eb34c8",
   "metadata": {},
   "outputs": [
    {
     "name": "stdout",
     "output_type": "stream",
     "text": [
      "<class 'pandas.core.frame.DataFrame'>\n",
      "DatetimeIndex: 24 entries, 2022-01-01 to 1999-01-01\n",
      "Data columns (total 1 columns):\n",
      " #   Column  Non-Null Count  Dtype  \n",
      "---  ------  --------------  -----  \n",
      " 0   value   24 non-null     float64\n",
      "dtypes: float64(1)\n",
      "memory usage: 384.0 bytes\n"
     ]
    }
   ],
   "source": [
    "data_totals.info()"
   ]
  },
  {
   "cell_type": "code",
   "execution_count": null,
   "id": "26b42faa",
   "metadata": {},
   "outputs": [],
   "source": []
  },
  {
   "cell_type": "code",
   "execution_count": 46,
   "id": "c5b95f15",
   "metadata": {
    "scrolled": false
   },
   "outputs": [
    {
     "data": {
      "image/png": "[encoded data removed]",
      "text/plain": [
       "<Figure size 640x480 with 1 Axes>"
      ]
     },
     "metadata": {},
     "output_type": "display_data"
    }
   ],
   "source": [
    "fig, ax = plt.subplots()\n",
    "\n",
    "ax.tick_params(axis='x', labelrotation=45)\n",
    "\n",
    "ax.plot(data_totals.index,data_totals['value'],label = 'U.S. Food Imports Total Value')\n",
    "ax.scatter(data_totals.index,data_totals['value'])\n",
    "\n",
    "ax.legend()\n",
    "\n",
    "plt.show()"
   ]
  },
  {
   "cell_type": "raw",
   "id": "3bb15b14",
   "metadata": {},
   "source": [
    "we will fit three models. Linear, quadratic, and exponential. We'll see which one fits the best. We will also try using double exponetial smoothing to make predictions."
   ]
  },
  {
   "cell_type": "markdown",
   "id": "2689914a",
   "metadata": {},
   "source": [
    "We will first implement single exponential smoothing and double exponential smoothing."
   ]
  },
  {
   "cell_type": "code",
   "execution_count": 216,
   "id": "3cf10346",
   "metadata": {},
   "outputs": [],
   "source": [
    "def MySingleExpSmoother(X,alpha):\n",
    "\n",
    "    S = []\n",
    "    \n",
    "    S.append(X[0])\n",
    "    \n",
    "    for i in range(1,len(X)):\n",
    "        \n",
    "        S.append( X[i]*alpha + (1-alpha)*S[i-1]) #S_i = X_i*alpha + (1-alpha)*S_(i-1),\n",
    "                                                 # i runs through [1..len(A)-1].\n",
    "            \n",
    "    return S #Returns the smoothed out data.\n",
    "        \n",
    "        \n",
    "    \n",
    "\n"
   ]
  },
  {
   "cell_type": "markdown",
   "id": "ef9101ec",
   "metadata": {},
   "source": [
    "$y_{t|t-1} = l_{t-1}$, where $l_{t-1}$ is our smoothed out data."
   ]
  },
  {
   "cell_type": "code",
   "execution_count": 50,
   "id": "ca01d435",
   "metadata": {},
   "outputs": [],
   "source": [
    "def BackPredict(X,S):\n",
    "    predictions = []\n",
    "    predictions.append(np.nan)\n",
    "    for i in range(1,len(X)):\n",
    "        predictions.append(S[i-1])  #S[i-1] is l_(i-1)\n",
    "    \n",
    "    return predictions\n",
    "    "
   ]
  },
  {
   "cell_type": "code",
   "execution_count": 51,
   "id": "c82bb68e",
   "metadata": {},
   "outputs": [],
   "source": [
    "S = MySingleExpSmoother([1,2,2,3],0.8)"
   ]
  },
  {
   "cell_type": "code",
   "execution_count": 52,
   "id": "d19540e8",
   "metadata": {},
   "outputs": [
    {
     "data": {
      "text/plain": [
       "[nan, 1, 1.8, 1.96]"
      ]
     },
     "execution_count": 52,
     "metadata": {},
     "output_type": "execute_result"
    }
   ],
   "source": [
    "BackPredict(X,S)"
   ]
  },
  {
   "cell_type": "code",
   "execution_count": 53,
   "id": "b57d8f7a",
   "metadata": {},
   "outputs": [],
   "source": [
    "def NextPredict(X,S):\n",
    "    return S[len(S) - 1]\n",
    "    "
   ]
  },
  {
   "cell_type": "markdown",
   "id": "008fa1f3",
   "metadata": {},
   "source": [
    "We want to write a class that bundles all of the functions, and a mse function and a mae function.\n",
    "\n",
    "and compares against baseline. and makes graphs."
   ]
  },
  {
   "cell_type": "markdown",
   "id": "b5537d60",
   "metadata": {},
   "source": [
    "Exponetial smoother app."
   ]
  },
  {
   "cell_type": "code",
   "execution_count": 72,
   "id": "a800d43c",
   "metadata": {},
   "outputs": [],
   "source": [
    "X = data_totals['value'].sort_index()"
   ]
  },
  {
   "cell_type": "code",
   "execution_count": 160,
   "id": "9e833818",
   "metadata": {},
   "outputs": [],
   "source": [
    "S = MySingleExpSmoother(X,1)"
   ]
  },
  {
   "cell_type": "code",
   "execution_count": 161,
   "id": "9f1614c8",
   "metadata": {},
   "outputs": [],
   "source": [
    "Y = BackPredict(X,S)"
   ]
  },
  {
   "cell_type": "code",
   "execution_count": 114,
   "id": "09ed1e45",
   "metadata": {},
   "outputs": [
    {
     "data": {
      "text/plain": [
       "2022"
      ]
     },
     "execution_count": 114,
     "metadata": {},
     "output_type": "execute_result"
    }
   ],
   "source": [
    "X.index.max().year"
   ]
  },
  {
   "cell_type": "code",
   "execution_count": 135,
   "id": "98768dfc",
   "metadata": {},
   "outputs": [],
   "source": [
    "T = pd.date_range(X.index.min(), freq=\"Y\", periods= X.index.max().year - X.index.min().year + 2).year"
   ]
  },
  {
   "cell_type": "code",
   "execution_count": 128,
   "id": "9e4aa87f",
   "metadata": {},
   "outputs": [
    {
     "data": {
      "text/plain": [
       "1999"
      ]
     },
     "execution_count": 128,
     "metadata": {},
     "output_type": "execute_result"
    }
   ],
   "source": []
  },
  {
   "cell_type": "code",
   "execution_count": 213,
   "id": "6a6d8a80",
   "metadata": {},
   "outputs": [
    {
     "data": {
      "image/png": "[encoded data removed]",
      "text/plain": [
       "<Figure size 640x480 with 1 Axes>"
      ]
     },
     "metadata": {},
     "output_type": "display_data"
    }
   ],
   "source": [
    "fig, ax = plt.subplots()\n",
    "\n",
    "ax.tick_params(axis='x', labelrotation=45)\n",
    "\n",
    "ax.plot(X.index.year,X.values,label = 'U.S. Food Imports Total Value')\n",
    "# ax.scatter(data_totals.index,data_totals['value'])\n",
    "\n",
    "\n",
    "# ax.scatter(X.index.year,S)\n",
    "\n",
    "ax.scatter(T.values[1:],Y,color = 'r')\n",
    "\n",
    "ax.vlines(2023,Y[-1]-10000,Y[-1]+10000)\n",
    "\n",
    "ax.legend()\n",
    "\n",
    "plt.show()"
   ]
  },
  {
   "cell_type": "markdown",
   "id": "eb5f876f",
   "metadata": {},
   "source": [
    "Write optimizer."
   ]
  },
  {
   "cell_type": "markdown",
   "id": "8f5cf7dd",
   "metadata": {},
   "source": [
    "Now we want to create an optimizer which finds the alpha value that minimizes the MSE between $\\hat{y}_{t|t-1}$ and\n",
    "$y_t$"
   ]
  },
  {
   "cell_type": "code",
   "execution_count": 212,
   "id": "721da1e2",
   "metadata": {},
   "outputs": [],
   "source": [
    "X = data_totals['value'].sort_index()\n",
    "S = MySingleExpSmoother(X,1)\n",
    "Y = BackPredict(X,S)\n",
    "\n",
    "\n",
    "\n",
    "\n",
    "\n"
   ]
  },
  {
   "cell_type": "code",
   "execution_count": 168,
   "id": "11707caf",
   "metadata": {},
   "outputs": [
    {
     "name": "stdout",
     "output_type": "stream",
     "text": [
      "0.0\n",
      "0.9\n"
     ]
    }
   ],
   "source": [
    "for i in np.arange(0,1,0.9):\n",
    "    print(i)"
   ]
  },
  {
   "cell_type": "code",
   "execution_count": 185,
   "id": "dbbd80fb",
   "metadata": {},
   "outputs": [],
   "source": [
    "A = list(enumerate([10,20,30],start = 1))"
   ]
  },
  {
   "cell_type": "code",
   "execution_count": 250,
   "id": "ee7edb7c",
   "metadata": {},
   "outputs": [],
   "source": [
    "def MyOptimizer(data,gran):\n",
    "    scores = []\n",
    "    \n",
    "    \n",
    "    \n",
    "    \n",
    "    for alpha in np.arange(0,1,gran):\n",
    "        S = MySingleExpSmoother(data,alpha)\n",
    "    \n",
    "        score = (1/len(data[1:]))* ((data[1:] - BackPredict(data,S)[1:])@(data[1:] - BackPredict(data,S)[1:]))**2\n",
    "        \n",
    "        scores.append(score)\n",
    "        \n",
    "    \n",
    "    \n",
    "    m = min(scores)\n",
    "    \n",
    "    A = [index for index in range(len(scores)) if scores[index] == m   ]\n",
    "    \n",
    "    return A[0]*gran\n",
    "    \n",
    "    \n",
    "    "
   ]
  },
  {
   "cell_type": "code",
   "execution_count": 251,
   "id": "da800259",
   "metadata": {},
   "outputs": [
    {
     "data": {
      "text/plain": [
       "0.99"
      ]
     },
     "execution_count": 251,
     "metadata": {},
     "output_type": "execute_result"
    }
   ],
   "source": [
    "MyOptimizer(X,0.01) "
   ]
  },
  {
   "cell_type": "code",
   "execution_count": 199,
   "id": "e63f6351",
   "metadata": {},
   "outputs": [],
   "source": [
    "A = [10,2,10,3]\n",
    "M = max(A)"
   ]
  },
  {
   "cell_type": "code",
   "execution_count": 201,
   "id": "c7914613",
   "metadata": {},
   "outputs": [
    {
     "data": {
      "text/plain": [
       "[0, 2]"
      ]
     },
     "execution_count": 201,
     "metadata": {},
     "output_type": "execute_result"
    }
   ],
   "source": [
    "[index for index in range(0,len(A)) if A[index] == M   ]"
   ]
  },
  {
   "cell_type": "code",
   "execution_count": null,
   "id": "0034d085",
   "metadata": {},
   "outputs": [],
   "source": []
  },
  {
   "cell_type": "code",
   "execution_count": 257,
   "id": "1b485730",
   "metadata": {},
   "outputs": [],
   "source": [
    "d = np.array([np.sin(i) for i in np.arange(0,10,0.1)])"
   ]
  },
  {
   "cell_type": "code",
   "execution_count": 223,
   "id": "449124c7",
   "metadata": {},
   "outputs": [
    {
     "data": {
      "text/plain": [
       "<matplotlib.collections.PathCollection at 0x7fdbd0984850>"
      ]
     },
     "execution_count": 223,
     "metadata": {},
     "output_type": "execute_result"
    },
    {
     "data": {
      "image/png": "[encoded data removed]",
      "text/plain": [
       "<Figure size 640x480 with 1 Axes>"
      ]
     },
     "metadata": {},
     "output_type": "display_data"
    }
   ],
   "source": [
    "plt.scatter(np.arange(len(d)),d)"
   ]
  },
  {
   "cell_type": "code",
   "execution_count": 275,
   "id": "0549bbeb",
   "metadata": {},
   "outputs": [
    {
     "data": {
      "text/plain": [
       "[<matplotlib.lines.Line2D at 0x7fdb8005f580>]"
      ]
     },
     "execution_count": 275,
     "metadata": {},
     "output_type": "execute_result"
    },
    {
     "data": {
      "image/png": "[encoded data removed]",
      "text/plain": [
       "<Figure size 640x480 with 1 Axes>"
      ]
     },
     "metadata": {},
     "output_type": "display_data"
    }
   ],
   "source": [
    "plt.plot(np.arange(len(d)),BackPredict(d,MySingleExpSmoother(d,0.34400)),color = 'r')\n",
    "plt.plot(np.arange(len(d)),d)"
   ]
  },
  {
   "cell_type": "code",
   "execution_count": 273,
   "id": "5be0aafc",
   "metadata": {},
   "outputs": [
    {
     "data": {
      "text/plain": [
       "0.34400000000000003"
      ]
     },
     "execution_count": 273,
     "metadata": {},
     "output_type": "execute_result"
    }
   ],
   "source": [
    "MyOptimizer(d,0.001)"
   ]
  },
  {
   "cell_type": "code",
   "execution_count": 271,
   "id": "c177775a",
   "metadata": {},
   "outputs": [],
   "source": [
    "d = 0.1*np.arange(100) + np.random.normal(0,1,100)"
   ]
  },
  {
   "cell_type": "code",
   "execution_count": null,
   "id": "b34dad76",
   "metadata": {},
   "outputs": [],
   "source": []
  },
  {
   "cell_type": "code",
   "execution_count": null,
   "id": "9db9fe64",
   "metadata": {},
   "outputs": [],
   "source": []
  },
  {
   "cell_type": "code",
   "execution_count": null,
   "id": "cbda0010",
   "metadata": {},
   "outputs": [],
   "source": []
  },
  {
   "cell_type": "code",
   "execution_count": 217,
   "id": "8a72475c",
   "metadata": {},
   "outputs": [
    {
     "ename": "NameError",
     "evalue": "name 'D' is not defined",
     "output_type": "error",
     "traceback": [
      "\u001b[0;31m---------------------------------------------------------------------------\u001b[0m",
      "\u001b[0;31mNameError\u001b[0m                                 Traceback (most recent call last)",
      "\u001b[0;32m/var/folders/92/ykbkbbfn2sj_bjgfj9s65x780000gn/T/ipykernel_32735/1957010296.py\u001b[0m in \u001b[0;36m<module>\u001b[0;34m\u001b[0m\n\u001b[1;32m      7\u001b[0m \u001b[0;34m\u001b[0m\u001b[0m\n\u001b[1;32m      8\u001b[0m \u001b[0;34m\u001b[0m\u001b[0m\n\u001b[0;32m----> 9\u001b[0;31m \u001b[0max\u001b[0m\u001b[0;34m.\u001b[0m\u001b[0mplot\u001b[0m\u001b[0;34m(\u001b[0m\u001b[0mdata_totals\u001b[0m\u001b[0;34m.\u001b[0m\u001b[0mindex\u001b[0m\u001b[0;34m,\u001b[0m\u001b[0mD\u001b[0m\u001b[0;34m,\u001b[0m\u001b[0mlabel\u001b[0m \u001b[0;34m=\u001b[0m \u001b[0;34m'ewma 0.9'\u001b[0m\u001b[0;34m)\u001b[0m\u001b[0;34m\u001b[0m\u001b[0;34m\u001b[0m\u001b[0m\n\u001b[0m\u001b[1;32m     10\u001b[0m \u001b[0max\u001b[0m\u001b[0;34m.\u001b[0m\u001b[0mscatter\u001b[0m\u001b[0;34m(\u001b[0m\u001b[0mdata_totals\u001b[0m\u001b[0;34m.\u001b[0m\u001b[0mindex\u001b[0m\u001b[0;34m,\u001b[0m\u001b[0mD\u001b[0m\u001b[0;34m)\u001b[0m\u001b[0;34m\u001b[0m\u001b[0;34m\u001b[0m\u001b[0m\n\u001b[1;32m     11\u001b[0m \u001b[0;34m\u001b[0m\u001b[0m\n",
      "\u001b[0;31mNameError\u001b[0m: name 'D' is not defined"
     ]
    },
    {
     "data": {
      "image/png": "[encoded data removed]",
      "text/plain": [
       "<Figure size 640x480 with 1 Axes>"
      ]
     },
     "metadata": {},
     "output_type": "display_data"
    }
   ],
   "source": [
    "fig, ax = plt.subplots()\n",
    "\n",
    "ax.tick_params(axis='x', labelrotation=45)\n",
    "\n",
    "ax.plot(data_totals.index,data_totals['value'],label = 'U.S. Food Imports Total Value')\n",
    "ax.scatter(data_totals.index,data_totals['value'])\n",
    "\n",
    "\n",
    "ax.plot(data_totals.index,D,label = 'ewma 0.9')\n",
    "ax.scatter(data_totals.index,D)\n",
    "\n",
    "ax.legend()\n",
    "\n",
    "plt.show()"
   ]
  },
  {
   "cell_type": "code",
   "execution_count": null,
   "id": "b81ca215",
   "metadata": {},
   "outputs": [],
   "source": [
    "D = data_totals['value'].ewm(alpha = 0.9,adjust = False).mean()"
   ]
  },
  {
   "cell_type": "code",
   "execution_count": null,
   "id": "0813143c",
   "metadata": {},
   "outputs": [],
   "source": [
    "df = data_totals.copy()"
   ]
  },
  {
   "cell_type": "code",
   "execution_count": null,
   "id": "7b55659b",
   "metadata": {},
   "outputs": [],
   "source": [
    "df.sort_index(inplace = True)"
   ]
  },
  {
   "cell_type": "code",
   "execution_count": null,
   "id": "84bb436d",
   "metadata": {},
   "outputs": [],
   "source": [
    "def my_ewma(S,alpha):\n",
    "    A = []\n",
    "    \n",
    "    \n",
    "    \n",
    "    A.append(S[0])\n",
    "    \n",
    "    i = 1\n",
    "    while i < len(S):\n",
    "        \n",
    "        A.append(S[i]*alpha + A[i-1]*(1-alpha)  )\n",
    "        \n",
    "        i += 1\n",
    "        \n",
    "        \n",
    "    return A\n",
    "    \n",
    "    \n",
    "    \n",
    "    \n",
    "    "
   ]
  },
  {
   "cell_type": "code",
   "execution_count": null,
   "id": "7152dd09",
   "metadata": {},
   "outputs": [],
   "source": [
    "my_ewma([2,3,4,5],0.4)"
   ]
  },
  {
   "cell_type": "code",
   "execution_count": null,
   "id": "cd11ca2a",
   "metadata": {},
   "outputs": [],
   "source": [
    "def my_mse_ewma(S,A):\n",
    "    A = np.array(A)\n",
    "    S = np.array(S)\n",
    "    \n",
    "    RA = np.roll(A,1)\n",
    "    \n",
    "    R = RA - S\n",
    "    \n",
    "    R = R[1:]\n",
    "    \n",
    "    SSE = R@R.T\n",
    "    \n",
    "    \n",
    "    return SSE\n",
    "    \n",
    "    "
   ]
  },
  {
   "cell_type": "code",
   "execution_count": null,
   "id": "c3b6d02a",
   "metadata": {},
   "outputs": [],
   "source": [
    "def find_best_alpha(S,gran):\n",
    "    \n",
    "    \n",
    "    \n",
    "    \n",
    "    \n",
    "    space = np.arange(0,1,gran)\n",
    "\n",
    "    scores = []\n",
    "    \n",
    "    \n",
    "    for alpha in space:\n",
    "        A = my_ewma(list(S),alpha)\n",
    "        \n",
    "        \n",
    "        \n",
    "        \n",
    "        SSE = my_mse_ewma(list(S),A)\n",
    "        \n",
    "        scores.append(SSE)\n",
    "        \n",
    "        \n",
    "    \n",
    "    \n",
    "    m = scores.index(min(scores))\n",
    "    \n",
    "    print(len(space))\n",
    "    print(len(scores))\n",
    "    \n",
    "    \n",
    "    plt.scatter(space,scores)\n",
    "\n",
    "    plt.show()\n",
    "    \n",
    "    \n",
    "    return space[m]\n",
    "        \n",
    "    \n",
    "    \n",
    "    \n",
    "    \n",
    "    \n",
    "    \n",
    "    \n",
    "    \n",
    "    \n",
    "    \n",
    "    \n",
    "    "
   ]
  },
  {
   "cell_type": "code",
   "execution_count": null,
   "id": "db7fdc21",
   "metadata": {},
   "outputs": [],
   "source": [
    "find_best_alpha([1,3,2,6,4,7,4],0.05)"
   ]
  },
  {
   "cell_type": "code",
   "execution_count": null,
   "id": "f4a33df0",
   "metadata": {},
   "outputs": [],
   "source": [
    "df.values"
   ]
  },
  {
   "cell_type": "code",
   "execution_count": null,
   "id": "a9c6da81",
   "metadata": {},
   "outputs": [],
   "source": [
    "df.values.flatten()"
   ]
  },
  {
   "cell_type": "code",
   "execution_count": null,
   "id": "9392371f",
   "metadata": {},
   "outputs": [],
   "source": [
    "find_best_alpha(df.values.flatten(),0.05)"
   ]
  },
  {
   "cell_type": "code",
   "execution_count": null,
   "id": "06ae733f",
   "metadata": {},
   "outputs": [],
   "source": [
    "plt.scatter(df.index,my_ewma(df.values.flatten(),0.9))"
   ]
  },
  {
   "cell_type": "code",
   "execution_count": null,
   "id": "2d394663",
   "metadata": {},
   "outputs": [],
   "source": [
    "plt.scatter(np.arange(len(d)),u,color = 'r')\n",
    "\n",
    "\n",
    "plt.scatter(np.arange(len(d)),d)"
   ]
  },
  {
   "cell_type": "code",
   "execution_count": null,
   "id": "dffabba5",
   "metadata": {},
   "outputs": [],
   "source": [
    "u = np.random.uniform(10,30,100)\n",
    "\n",
    "d = my_ewma(u,1)"
   ]
  },
  {
   "cell_type": "code",
   "execution_count": null,
   "id": "afd730d6",
   "metadata": {},
   "outputs": [],
   "source": [
    "find_best_alpha(u,0.01)"
   ]
  },
  {
   "cell_type": "code",
   "execution_count": null,
   "id": "654c45be",
   "metadata": {},
   "outputs": [],
   "source": [
    "\n",
    "\n",
    "\n"
   ]
  }
 ],
 "metadata": {
  "kernelspec": {
   "display_name": "Python 3 (ipykernel)",
   "language": "python",
   "name": "python3"
  },
  "language_info": {
   "codemirror_mode": {
    "name": "ipython",
    "version": 3
   },
   "file_extension": ".py",
   "mimetype": "text/x-python",
   "name": "python",
   "nbconvert_exporter": "python",
   "pygments_lexer": "ipython3",
   "version": "3.8.13"
  }
 },
 "nbformat": 4,
 "nbformat_minor": 5
}
